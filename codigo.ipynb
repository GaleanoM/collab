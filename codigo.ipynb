{
  "nbformat": 4,
  "nbformat_minor": 0,
  "metadata": {
    "colab": {
      "provenance": [],
      "authorship_tag": "ABX9TyOI25xfT3bII2KltXLiBuCc",
      "include_colab_link": true
    },
    "kernelspec": {
      "name": "python3",
      "display_name": "Python 3"
    },
    "language_info": {
      "name": "python"
    }
  },
  "cells": [
    {
      "cell_type": "markdown",
      "metadata": {
        "id": "view-in-github",
        "colab_type": "text"
      },
      "source": [
        "<a href=\"https://colab.research.google.com/github/GaleanoM/collab/blob/main/codigo.ipynb\" target=\"_parent\"><img src=\"https://colab.research.google.com/assets/colab-badge.svg\" alt=\"Open In Colab\"/></a>"
      ]
    },
    {
      "cell_type": "code",
      "execution_count": 1,
      "metadata": {
        "id": "AonmqIulxwgo"
      },
      "outputs": [],
      "source": [
        "import math\n",
        "import random\n",
        "import string\n",
        "def primo (n):\n",
        "    if n<2:\n",
        "        return False\n",
        "    for i in range(2, int(n**0.5)+1):\n",
        "        if n % i==0:\n",
        "            return False\n",
        "    return True\n",
        "def next_primo(n):\n",
        "    candidate=n+1\n",
        "    while not primo(candidate):\n",
        "        candidate+=1\n",
        "        return candidate\n",
        "def mediana(a,b,c):\n",
        "    return sorted([a,b,c])[1]\n",
        "def password():\n",
        "    length= random.randint(7,10)\n",
        "    characters= string.ascii_letters + string.digits + string.punctuation\n",
        "    password = ''.join(random.choice(characters)for i in range(length))\n",
        "    return password\n",
        "def hipotenusa(a,b):\n",
        "    return math.sqrt(a**2+b**2)\n"
      ]
    }
  ]
}